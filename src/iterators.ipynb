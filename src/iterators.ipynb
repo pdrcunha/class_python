{
 "cells": [
  {
   "cell_type": "markdown",
   "metadata": {},
   "source": [
    "1. Iteradores – o básico\n",
    "Um iterador é qualquer objeto que pode ser percorrido com for e que implementa os métodos __iter__() e __next__()."
   ]
  },
  {
   "cell_type": "code",
   "execution_count": null,
   "metadata": {},
   "outputs": [
    {
     "name": "stdout",
     "output_type": "stream",
     "text": [
      "1\n",
      "2\n",
      "3\n"
     ]
    }
   ],
   "source": [
    "lista = [1, 2, 3]\n",
    "iterador = iter(lista)  # transforma a lista num iterador\n",
    "\n",
    "print(next(iterador))  # 1\n",
    "print(next(iterador))  # 2\n",
    "print(next(iterador))  # 3\n",
    "# print(next(iterador))  # Erro! StopIteration"
   ]
  },
  {
   "cell_type": "markdown",
   "metadata": {},
   "source": [
    "2. Criando um iterador manualmente"
   ]
  },
  {
   "cell_type": "code",
   "execution_count": 2,
   "metadata": {},
   "outputs": [
    {
     "name": "stdout",
     "output_type": "stream",
     "text": [
      "1\n",
      "2\n",
      "3\n"
     ]
    }
   ],
   "source": [
    "class Contador:\n",
    "    def __init__(self, maximo):\n",
    "        self.atual = 0\n",
    "        self.maximo = maximo\n",
    "\n",
    "    def __iter__(self):\n",
    "        return self\n",
    "\n",
    "    def __next__(self):\n",
    "        if self.atual >= self.maximo:\n",
    "            raise StopIteration\n",
    "        self.atual += 1\n",
    "        return self.atual\n",
    "\n",
    "\n",
    "for numero in Contador(3):\n",
    "    print(numero)  # 1, 2, 3"
   ]
  },
  {
   "cell_type": "markdown",
   "metadata": {},
   "source": [
    "3.Geradores com send() – mais avançado"
   ]
  },
  {
   "cell_type": "code",
   "execution_count": 3,
   "metadata": {},
   "outputs": [
    {
     "name": "stdout",
     "output_type": "stream",
     "text": [
      "Pronto para receber\n",
      "Recebi: Oi\n"
     ]
    }
   ],
   "source": [
    "def responder():\n",
    "    valor = yield \"Pronto para receber\"\n",
    "    yield f\"Recebi: {valor}\"\n",
    "\n",
    "g = responder()\n",
    "print(next(g))         # Pronto para receber\n",
    "print(g.send(\"Oi\"))    # Recebi: Oi\n"
   ]
  }
 ],
 "metadata": {
  "kernelspec": {
   "display_name": "venv",
   "language": "python",
   "name": "python3"
  },
  "language_info": {
   "codemirror_mode": {
    "name": "ipython",
    "version": 3
   },
   "file_extension": ".py",
   "mimetype": "text/x-python",
   "name": "python",
   "nbconvert_exporter": "python",
   "pygments_lexer": "ipython3",
   "version": "3.12.3"
  }
 },
 "nbformat": 4,
 "nbformat_minor": 2
}
