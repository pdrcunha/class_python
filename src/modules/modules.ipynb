{
 "cells": [
  {
   "cell_type": "markdown",
   "metadata": {},
   "source": [
    "1. O que é um Módulo?\n",
    "Um módulo é simplesmente um arquivo .py que contém funções, classes ou variáveis que você quer reutilizar."
   ]
  },
  {
   "cell_type": "code",
   "execution_count": 4,
   "metadata": {},
   "outputs": [
    {
     "name": "stdout",
     "output_type": "stream",
     "text": [
      "8\n",
      "6\n"
     ]
    }
   ],
   "source": [
    "import matematic\n",
    "\n",
    "print(matematic.somar(5, 3))      # 8\n",
    "print(matematic.subtrair(10, 4))  # 6"
   ]
  },
  {
   "cell_type": "markdown",
   "metadata": {},
   "source": [
    "Um pacote é uma pasta que contém um ou mais módulos e um arquivo especial \\_\\_init\\_\\_.py (pode estar vazio, ou conter inicializações do pacote)."
   ]
  },
  {
   "cell_type": "code",
   "execution_count": 8,
   "metadata": {},
   "outputs": [
    {
     "name": "stdout",
     "output_type": "stream",
     "text": [
      "6\n",
      "Olá, João\n"
     ]
    }
   ],
   "source": [
    "from my_package import operation, hello\n",
    "\n",
    "print(operation.multiplicar(2, 3))  # 6\n",
    "print(hello.ola(\"João\"))        # Olá, João"
   ]
  },
  {
   "cell_type": "markdown",
   "metadata": {},
   "source": [
    "Organizando projetos reais:\n",
    "\n",
    "meu_projeto/\n",
    "│\n",
    "├── app/\n",
    "│   ├── __init__.py\n",
    "│   ├── models.py\n",
    "│   ├── controllers.py\n",
    "│   └── utils.py\n",
    "│\n",
    "├── tests/\n",
    "│   ├── __init__.py\n",
    "│   └── test_models.py\n",
    "│\n",
    "├── requirements.txt\n",
    "├── .gitignore\n",
    "└── main.py\n"
   ]
  }
 ],
 "metadata": {
  "kernelspec": {
   "display_name": "venv",
   "language": "python",
   "name": "python3"
  },
  "language_info": {
   "codemirror_mode": {
    "name": "ipython",
    "version": 3
   },
   "file_extension": ".py",
   "mimetype": "text/x-python",
   "name": "python",
   "nbconvert_exporter": "python",
   "pygments_lexer": "ipython3",
   "version": "3.12.3"
  }
 },
 "nbformat": 4,
 "nbformat_minor": 2
}
