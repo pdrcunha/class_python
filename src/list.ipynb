{
 "cells": [
  {
   "cell_type": "markdown",
   "metadata": {},
   "source": [
    "Exemplo 1: Quadrado dos números de 0 a 4"
   ]
  },
  {
   "cell_type": "code",
   "execution_count": 1,
   "metadata": {},
   "outputs": [
    {
     "name": "stdout",
     "output_type": "stream",
     "text": [
      "[0, 1, 4, 9, 16]\n"
     ]
    }
   ],
   "source": [
    "quadrados = [x**2 for x in range(5)]\n",
    "print(quadrados)\n"
   ]
  },
  {
   "cell_type": "markdown",
   "metadata": {},
   "source": [
    "Exemplo 2: Converter para letras maiúsculas"
   ]
  },
  {
   "cell_type": "code",
   "execution_count": 3,
   "metadata": {},
   "outputs": [
    {
     "name": "stdout",
     "output_type": "stream",
     "text": [
      "['MARIA', 'PEDRO']\n"
     ]
    }
   ],
   "source": [
    "nomes = ['maria','pedro']\n",
    "nomes_maiusculos = [x.upper() for x in nomes]\n",
    "print(nomes_maiusculos)"
   ]
  },
  {
   "cell_type": "markdown",
   "metadata": {},
   "source": [
    "Exemplo 3: Pegar só os números pares"
   ]
  },
  {
   "cell_type": "code",
   "execution_count": 5,
   "metadata": {},
   "outputs": [
    {
     "name": "stdout",
     "output_type": "stream",
     "text": [
      "[0, 2, 4, 6, 8, 10]\n"
     ]
    }
   ],
   "source": [
    "pares = [x for x in range(11) if x%2 == 0]\n",
    "print(pares)"
   ]
  },
  {
   "cell_type": "markdown",
   "metadata": {},
   "source": [
    "Exemplo 4: Somente nomes com mais de 3 letras"
   ]
  },
  {
   "cell_type": "code",
   "execution_count": 6,
   "metadata": {},
   "outputs": [
    {
     "name": "stdout",
     "output_type": "stream",
     "text": [
      "['Maria', 'Clara']\n"
     ]
    }
   ],
   "source": [
    "nomes = [\"Maria\", \"Ari\", \"Clara\", \"Ana\"]\n",
    "nome_com_mais_de_tres_letras = [x for x in nomes if len(x) > 3]\n",
    "print(nome_com_mais_de_tres_letras)"
   ]
  },
  {
   "cell_type": "markdown",
   "metadata": {},
   "source": [
    "## Usando if/else na expressão, não só no filtro\n",
    "Exemplo 5: classificando pares e impares"
   ]
  },
  {
   "cell_type": "code",
   "execution_count": 8,
   "metadata": {},
   "outputs": [
    {
     "name": "stdout",
     "output_type": "stream",
     "text": [
      "['par: 0', 'impar: 1', 'par: 2', 'impar: 3', 'par: 4', 'impar: 5', 'par: 6', 'impar: 7', 'par: 8', 'impar: 9', 'par: 10']\n"
     ]
    }
   ],
   "source": [
    "resultado = [f\"par: {x}\" if x%2 == 0 else f\"impar: {x}\" for x in range(11)]\n",
    "print(resultado)"
   ]
  },
  {
   "cell_type": "markdown",
   "metadata": {},
   "source": [
    "Exemplo 6: Substituir números negativos por 0"
   ]
  },
  {
   "cell_type": "code",
   "execution_count": 14,
   "metadata": {},
   "outputs": [
    {
     "name": "stdout",
     "output_type": "stream",
     "text": [
      "[1, 0, 0, 10]\n"
     ]
    }
   ],
   "source": [
    "resultado = [0 if x < 0 else x for x in [1,-9,-5,10]]\n",
    "print(resultado)"
   ]
  },
  {
   "cell_type": "markdown",
   "metadata": {},
   "source": [
    "Exemplo 7: Transformar em booleanos (True se maior que 10)"
   ]
  },
  {
   "cell_type": "code",
   "execution_count": 15,
   "metadata": {},
   "outputs": [
    {
     "name": "stdout",
     "output_type": "stream",
     "text": [
      "[False, False, True, True, False]\n"
     ]
    }
   ],
   "source": [
    "resultado = [x > 10 for x in [1,10,11,20,5]]\n",
    "print(resultado)"
   ]
  },
  {
   "cell_type": "markdown",
   "metadata": {},
   "source": [
    "### List Comprehension Aninhada (duplo for)\n",
    "Exemplo 8: Produto cartesiano"
   ]
  },
  {
   "cell_type": "code",
   "execution_count": 17,
   "metadata": {},
   "outputs": [
    {
     "name": "stdout",
     "output_type": "stream",
     "text": [
      "[('Vermelho', 'P'), ('Vermelho', 'M'), ('Vermelho', 'G'), ('Azul', 'P'), ('Azul', 'M'), ('Azul', 'G'), ('Preto', 'P'), ('Preto', 'M'), ('Preto', 'G')]\n"
     ]
    }
   ],
   "source": [
    "cores = [\"Vermelho\", \"Azul\", \"Preto\"]\n",
    "tamanhos = [\"P\", \"M\", \"G\"]\n",
    "\n",
    "resultado = [(cor, tamanho) for cor in cores for tamanho in tamanhos]\n",
    "\n",
    "print(resultado)"
   ]
  },
  {
   "cell_type": "markdown",
   "metadata": {},
   "source": [
    "## Dicionário por Comprehension\n",
    "Exemplo 9: Criar um dicionário com quadrados de números"
   ]
  },
  {
   "cell_type": "code",
   "execution_count": 19,
   "metadata": {},
   "outputs": [
    {
     "name": "stdout",
     "output_type": "stream",
     "text": [
      "{0: {'double': 0}, 1: {'double': 2}, 2: {'double': 4}, 3: {'double': 6}, 4: {'double': 8}, 5: {'double': 10}, 6: {'double': 12}, 7: {'double': 14}, 8: {'double': 16}, 9: {'double': 18}, 10: {'double': 20}}\n"
     ]
    }
   ],
   "source": [
    "quadrados = {x:{\"double\":x*2} for x in range(11)}\n",
    "print(quadrados)"
   ]
  },
  {
   "cell_type": "markdown",
   "metadata": {},
   "source": [
    "Exemplo 11: Criar um dicionário a partir de duas listas"
   ]
  },
  {
   "cell_type": "code",
   "execution_count": 23,
   "metadata": {},
   "outputs": [
    {
     "name": "stdout",
     "output_type": "stream",
     "text": [
      "{'Fruta': 'Banana', 'Carro': 'Celta'}\n"
     ]
    }
   ],
   "source": [
    "chaves = [\"Fruta\",\"Carro\"]\n",
    "valores = [\"Banana\", \"Celta\"]\n",
    "resultado = {j:i for j,i in zip(chaves,valores)}\n",
    "print(resultado)"
   ]
  },
  {
   "cell_type": "markdown",
   "metadata": {},
   "source": [
    "Exemplo 12: Filtrar pares de um dicionário"
   ]
  },
  {
   "cell_type": "code",
   "execution_count": 24,
   "metadata": {},
   "outputs": [
    {
     "name": "stdout",
     "output_type": "stream",
     "text": [
      "{0: 0, 1: 10, 2: 20, 3: 30, 4: 40, 5: 50, 6: 60, 7: 70, 8: 80, 9: 90, 10: 100}\n"
     ]
    }
   ],
   "source": [
    "dic = {x:x*10 for x in range(11)}\n",
    "resultado = {k:v for k,v in dic.items() if v % 2 == 0}\n",
    "\n",
    "print(resultado)"
   ]
  },
  {
   "cell_type": "markdown",
   "metadata": {},
   "source": [
    "Exemplo 13: Transformar valores com if/else"
   ]
  },
  {
   "cell_type": "code",
   "execution_count": 27,
   "metadata": {},
   "outputs": [
    {
     "name": "stdout",
     "output_type": "stream",
     "text": [
      "{'Ana': 'menor', 'Beto': 'maior', 'Cris': 'menor'}\n"
     ]
    }
   ],
   "source": [
    "idades = {\"Ana\": 15, \"Beto\": 21, \"Cris\": 17}\n",
    "status = {nome: \"maior\" if idade >= 18 else \"menor\" for nome, idade in idades.items()}\n",
    "print(status)"
   ]
  },
  {
   "cell_type": "markdown",
   "metadata": {},
   "source": [
    "### Set Comprehension\n",
    " Exemplo 14: Criar um set de quadrados"
   ]
  },
  {
   "cell_type": "code",
   "execution_count": 1,
   "metadata": {},
   "outputs": [
    {
     "name": "stdout",
     "output_type": "stream",
     "text": [
      "{0, 2, 4, 6, 8, 10, 12, 14, 16, 18, 20}\n"
     ]
    }
   ],
   "source": [
    "quadrados = {x*2 for x in range(11)}\n",
    "print(quadrados)"
   ]
  },
  {
   "cell_type": "markdown",
   "metadata": {},
   "source": [
    "Exemplo 15: Set com elementos únicos de uma lista com repetições"
   ]
  },
  {
   "cell_type": "code",
   "execution_count": 2,
   "metadata": {},
   "outputs": [
    {
     "name": "stdout",
     "output_type": "stream",
     "text": [
      "{1, 2, 99, 33, 69, 88}\n"
     ]
    }
   ],
   "source": [
    "numeros = [1,1,1,2,2,2,33,99,88,69,69]\n",
    "unicos = {x for x in numeros}\n",
    "print(unicos)"
   ]
  },
  {
   "cell_type": "markdown",
   "metadata": {},
   "source": [
    " Exemplo 16: Filtrar apenas números pares"
   ]
  },
  {
   "cell_type": "code",
   "execution_count": 5,
   "metadata": {},
   "outputs": [
    {
     "name": "stdout",
     "output_type": "stream",
     "text": [
      "{0, 2, 4, 6, 8, 10, 12, 14, 16, 18}\n"
     ]
    }
   ],
   "source": [
    "pares = {x for x in range(20) if x%2 == 0}\n",
    "print(pares)"
   ]
  },
  {
   "cell_type": "markdown",
   "metadata": {},
   "source": [
    " Exemplo 17: Criar um set com as letras únicas de uma string"
   ]
  },
  {
   "cell_type": "code",
   "execution_count": 7,
   "metadata": {},
   "outputs": [
    {
     "name": "stdout",
     "output_type": "stream",
     "text": [
      "{'a', 'n', 'B'}\n"
     ]
    }
   ],
   "source": [
    "nome = \"Banana\"\n",
    "letras_unicas = {x for x in nome}\n",
    "print(letras_unicas)"
   ]
  },
  {
   "cell_type": "markdown",
   "metadata": {},
   "source": [
    "Exemplo 18: Matrizes (listas de listas)\n",
    "Imagine que você tem uma matriz 3x3 e deseja extrair todos os elementos dessa matriz:"
   ]
  },
  {
   "cell_type": "code",
   "execution_count": 8,
   "metadata": {},
   "outputs": [
    {
     "name": "stdout",
     "output_type": "stream",
     "text": [
      "[1, 2, 3, 4, 5, 6, 7, 8, 9]\n"
     ]
    }
   ],
   "source": [
    "matriz = [\n",
    "    [1, 2, 3],\n",
    "    [4, 5, 6],\n",
    "    [7, 8, 9]\n",
    "]\n",
    "resultado = [x for linha in matriz for x in linha]\n",
    "print(resultado)"
   ]
  },
  {
   "cell_type": "markdown",
   "metadata": {},
   "source": [
    "Exemplo 19: Combinar listas de diferentes formas"
   ]
  },
  {
   "cell_type": "code",
   "execution_count": 12,
   "metadata": {},
   "outputs": [
    {
     "name": "stdout",
     "output_type": "stream",
     "text": [
      "[(1, 'a'), (1, 'b'), (1, 'c'), (2, 'a'), (2, 'b'), (2, 'c'), (3, 'a'), (3, 'b'), (3, 'c')]\n"
     ]
    }
   ],
   "source": [
    "lista1 = [1, 2, 3]\n",
    "lista2 = ['a', 'b', 'c']\n",
    "\n",
    "resultado = [(x,y) for x in lista1 for y in lista2]\n",
    "print(resultado)\n"
   ]
  },
  {
   "cell_type": "markdown",
   "metadata": {},
   "source": [
    "Exemplo 20: Filtragem e transformação ao mesmo tempo (extraindo apenas elementos maiores que 5)\n",
    "Suponha que temos uma lista de números e queremos pegar apenas os números maiores que 5 e transformá-los ao quadrado:"
   ]
  },
  {
   "cell_type": "code",
   "execution_count": 14,
   "metadata": {},
   "outputs": [
    {
     "name": "stdout",
     "output_type": "stream",
     "text": [
      "[36, 64, 100, 144]\n"
     ]
    }
   ],
   "source": [
    "numeros = [2, 4, 6, 8, 10, 12]\n",
    "resultado = [x**2 for x in numeros if x >5]\n",
    "print(resultado)"
   ]
  },
  {
   "cell_type": "markdown",
   "metadata": {},
   "source": [
    "Exemplo 21: Performance com grandes listas\n",
    "Vamos comparar a criação de uma lista de quadrados usando list comprehension e loop tradicional."
   ]
  },
  {
   "cell_type": "code",
   "execution_count": null,
   "metadata": {},
   "outputs": [
    {
     "name": "stdout",
     "output_type": "stream",
     "text": [
      "Tempo usando list comprehension: 1.146112 segundos\n",
      "Tempo usando loop tradicional: 2.378827 segundos\n"
     ]
    }
   ],
   "source": [
    "import time\n",
    "\n",
    "# Usando list comprehension\n",
    "start_time = time.time()\n",
    "quadrados = [x ** 2 for x in range(1, 9999999)]\n",
    "end_time = time.time()\n",
    "print(f\"Tempo usando list comprehension: {end_time - start_time:.6f} segundos\")\n",
    "\n",
    "# Usando loop tradicional\n",
    "start_time = time.time()\n",
    "quadrados = []\n",
    "for x in range(1, 9999999):\n",
    "    quadrados.append(x ** 2)\n",
    "end_time = time.time()\n",
    "print(f\"Tempo usando loop tradicional: {end_time - start_time:.6f} segundos\")\n"
   ]
  }
 ],
 "metadata": {
  "kernelspec": {
   "display_name": "venv",
   "language": "python",
   "name": "python3"
  },
  "language_info": {
   "codemirror_mode": {
    "name": "ipython",
    "version": 3
   },
   "file_extension": ".py",
   "mimetype": "text/x-python",
   "name": "python",
   "nbconvert_exporter": "python",
   "pygments_lexer": "ipython3",
   "version": "3.12.3"
  }
 },
 "nbformat": 4,
 "nbformat_minor": 2
}
