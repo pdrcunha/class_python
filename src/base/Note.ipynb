{
 "cells": [
  {
   "cell_type": "markdown",
   "metadata": {},
   "source": [
    "# Base"
   ]
  },
  {
   "cell_type": "markdown",
   "metadata": {},
   "source": [
    "- Variaveis"
   ]
  },
  {
   "cell_type": "code",
   "execution_count": null,
   "metadata": {},
   "outputs": [
    {
     "name": "stdout",
     "output_type": "stream",
     "text": [
      "Lista modificada: [1, 2, 3, 4]\n",
      "x global após a função: 50\n",
      "numero antes da atribuição: None\n",
      "numero depois da atribuição: 10\n",
      "nome antes da atribuição: None\n",
      "nome depois da atribuição: João\n",
      "numero: 100, preco: 19.99, nome: João\n",
      "Soma de 100 e 19.99 é 119.99\n",
      "Resultado da soma: 30\n"
     ]
    }
   ],
   "source": [
    "# Exemplo 1: Declaração simples de variáveis\n",
    "numero = 10  # Variável inteira\n",
    "preco = 19.99  # Variável de ponto flutuante\n",
    "nome = \"João\"  # Variável string\n",
    "is_ativo = True  # Variável booleana\n",
    "\n",
    "# Exemplo 2: Atribuição múltipla\n",
    "x, y, z = 10, 20, 30  # Atribuindo valores a várias variáveis de uma vez\n",
    "\n",
    "# Exemplo 3: Variáveis mutáveis e imutáveis\n",
    "\n",
    "# Lista (mutável)\n",
    "lista = [1, 2, 3]\n",
    "lista.append(4)  # Modificando a lista\n",
    "print(f\"Lista modificada: {lista}\")\n",
    "\n",
    "# String (imutável)\n",
    "nome = \"Maria\"\n",
    "# nome[0] = \"L\"  # Isso causaria um erro porque strings são imutáveis\n",
    "\n",
    "# Exemplo 4: Usando o `global`\n",
    "def minha_funcao():\n",
    "    global x  # Definindo x como global\n",
    "    x = 50  # Agora x é uma variável global\n",
    "\n",
    "minha_funcao()\n",
    "print(f\"x global após a função: {x}\")\n",
    "\n",
    "# Exemplo 5: Declarando com tipo inicial `None` e depois mudando o valor\n",
    "\n",
    "# Inicializando com None e alterando o valor\n",
    "numero: int = None  # A variável é declarada como inteiro, mas com None inicialmente\n",
    "print(f\"numero antes da atribuição: {numero}\")\n",
    "\n",
    "numero = 10  # Atribuindo um valor inteiro\n",
    "print(f\"numero depois da atribuição: {numero}\")\n",
    "\n",
    "nome: str = None  # A variável é declarada como string, mas com None inicialmente\n",
    "print(f\"nome antes da atribuição: {nome}\")\n",
    "\n",
    "nome = \"João\"  # Atribuindo um valor string\n",
    "print(f\"nome depois da atribuição: {nome}\")\n",
    "\n",
    "# Exemplo 6: Anotações de tipo (não influencia na execução, mas ajuda em clareza)\n",
    "\n",
    "numero: int = 100  # A variável 'numero' deve ser um inteiro\n",
    "preco: float = 19.99  # A variável 'preco' deve ser um número de ponto flutuante\n",
    "nome: str = \"João\"  # A variável 'nome' deve ser uma string\n",
    "\n",
    "print(f\"numero: {numero}, preco: {preco}, nome: {nome}\")\n",
    "\n",
    "# Exemplo 7: Usando f-strings para concatenar variáveis\n",
    "print(f\"Soma de {numero} e {preco} é {numero + preco}\")\n",
    "\n",
    "# Exemplo 10: Atribuição com o resultado de uma função\n",
    "def somar(a, b):\n",
    "    return a + b\n",
    "\n",
    "resultado = somar(10, 20)\n",
    "print(f\"Resultado da soma: {resultado}\")\n"
   ]
  },
  {
   "cell_type": "markdown",
   "metadata": {},
   "source": [
    "- Concatenação de strings."
   ]
  },
  {
   "cell_type": "code",
   "execution_count": 1,
   "metadata": {},
   "outputs": [
    {
     "name": "stdout",
     "output_type": "stream",
     "text": [
      "Soma 176\n",
      "Soma 176 (Impressão literal)\n",
      "Soma de 88 e 88 é 176\n",
      "Soma de 88 e 88.00 é 176.00\n",
      "somasomasomasomasomasomasomasomasoma\n"
     ]
    }
   ],
   "source": [
    "numberA = int(88)\n",
    "numberB = int(88)\n",
    "\n",
    "result = numberA + numberB\n",
    "#print(\"Soma\" + result) can only concatenate str (not \"int\") to str\n",
    "print(\"Soma \" + str(result))\n",
    "print(f\"Soma {str(result)} (Impressão literal)\")\n",
    "\n",
    "# Usando o método format() para concatenar\n",
    "print(\"Soma de {} e {} é {}\".format(numberA, numberB, numberA + numberB))\n",
    "\n",
    "# Usando o operador % (método antigo de formatação)\n",
    "print(\"Soma de %d e %.2f é %.2f\" % (numberA, numberB, numberA + numberB))\n",
    "print(\"soma\"*9)"
   ]
  },
  {
   "cell_type": "markdown",
   "metadata": {},
   "source": [
    "- Funções"
   ]
  },
  {
   "cell_type": "code",
   "execution_count": null,
   "metadata": {},
   "outputs": [
    {
     "name": "stdout",
     "output_type": "stream",
     "text": [
      "Olá, bem-vindo ao Python!\n",
      "Olá, Maria! Bem-vindo ao Python!\n",
      "A soma é: 8\n",
      "Olá, Visitante! Bem-vindo ao Python!\n",
      "Olá, João! Bem-vindo ao Python!\n",
      "Soma: 15, Subtração: 5\n",
      "8\n",
      "15\n",
      "15\n",
      "nome: João\n",
      "idade: 25\n",
      "Fatorial de 5: 120\n",
      "Função externa\n",
      "Função interna\n"
     ]
    }
   ],
   "source": [
    "# 1. Função Simples\n",
    "def saudacao():\n",
    "    print(\"Olá, bem-vindo ao Python!\")\n",
    "\n",
    "# Chamando a função\n",
    "saudacao()\n",
    "\n",
    "# 2. Função com Parâmetros\n",
    "def saudacao(nome):\n",
    "    print(f\"Olá, {nome}! Bem-vindo ao Python!\")\n",
    "\n",
    "# Chamando a função com um argumento\n",
    "saudacao(\"Maria\")\n",
    "\n",
    "# 3. Função com Retorno\n",
    "def soma(a, b):\n",
    "    return a + b\n",
    "\n",
    "# Chamando a função e armazenando o resultado\n",
    "resultado = soma(5, 3)\n",
    "print(f\"A soma é: {resultado}\")\n",
    "\n",
    "# 4. Funções com Parâmetros Opcionais\n",
    "def saudacao(nome=\"Visitante\"):\n",
    "    print(f\"Olá, {nome}! Bem-vindo ao Python!\")\n",
    "\n",
    "# Chamando a função sem argumentos\n",
    "saudacao()\n",
    "\n",
    "# Chamando a função com argumento\n",
    "saudacao(\"João\")\n",
    "\n",
    "# 5. Funções com Múltiplos Retornos\n",
    "def operacoes(a, b):\n",
    "    soma = a + b\n",
    "    subtracao = a - b\n",
    "    return soma, subtracao\n",
    "\n",
    "# Chamando a função e desempacotando os valores retornados\n",
    "resultado_soma, resultado_subtracao = operacoes(10, 5)\n",
    "print(f\"Soma: {resultado_soma}, Subtração: {resultado_subtracao}\")\n",
    "\n",
    "# 6. Função Anônima (Lambda)\n",
    "soma = lambda a, b: a + b\n",
    "print(soma(5, 3))\n",
    "\n",
    "multiplicacao = lambda a, b: a * b\n",
    "print(multiplicacao(5, 3))\n",
    "\n",
    "# 7. Funções com Argumentos Variáveis\n",
    "def soma_todos(*args):\n",
    "    return sum(args)\n",
    "\n",
    "# Chamando a função com vários argumentos\n",
    "print(soma_todos(1, 2, 3, 4, 5))  # Soma todos os números passados\n",
    "\n",
    "# Função com argumentos nomeados variáveis\n",
    "def saudacao_personalizada(**kwargs):\n",
    "    for chave, valor in kwargs.items():\n",
    "        print(f\"{chave}: {valor}\")\n",
    "\n",
    "# Chamando a função com argumentos nomeados\n",
    "saudacao_personalizada(nome=\"João\", idade=25)\n",
    "\n",
    "# 8. Funções Recursivas\n",
    "def fatorial(n):\n",
    "    if n == 1:\n",
    "        return 1\n",
    "    else:\n",
    "        return n * fatorial(n - 1)\n",
    "\n",
    "# Chamando a função recursiva\n",
    "print(f\"Fatorial de 5: {fatorial(5)}\")\n",
    "\n",
    "# 9. Função Dentro de Outra Função\n",
    "def externa():\n",
    "    def interna():\n",
    "        print(\"Função interna\")\n",
    "    \n",
    "    print(\"Função externa\")\n",
    "    interna()\n",
    "\n",
    "# Chamando a função externa\n",
    "externa()\n"
   ]
  },
  {
   "cell_type": "markdown",
   "metadata": {},
   "source": [
    "- Estruturas de Repetição e Condição"
   ]
  },
  {
   "cell_type": "code",
   "execution_count": 2,
   "metadata": {},
   "outputs": [
    {
     "name": "stdout",
     "output_type": "stream",
     "text": [
      "Tem exatamente 18 anos\n",
      "------------------------------\n",
      "Repetição número 0\n",
      "Repetição número 1\n",
      "Repetição número 2\n",
      "Repetição número 3\n",
      "Repetição número 4\n",
      "------------------------------\n",
      "Contando: 0\n",
      "Contando: 1\n",
      "Contando: 2\n",
      "------------------------------\n",
      "Loop com break, i = 0\n",
      "Loop com break, i = 1\n",
      "Loop com break, i = 2\n",
      "Loop com break, i = 3\n",
      "Loop com break, i = 4\n",
      "------------------------------\n",
      "Loop com continue, i = 0\n",
      "Loop com continue, i = 1\n",
      "Loop com continue, i = 3\n",
      "Loop com continue, i = 4\n",
      "------------------------------\n",
      "Fim do script de controle de fluxo!\n"
     ]
    }
   ],
   "source": [
    "# 1. Estrutura condicional if / elif / else\n",
    "idade = 18\n",
    "\n",
    "if idade < 18:\n",
    "    print(\"Menor de idade\")\n",
    "elif idade == 18:\n",
    "    print(\"Tem exatamente 18 anos\")\n",
    "else:\n",
    "    print(\"Maior de idade\")\n",
    "\n",
    "print(\"-\" * 30)\n",
    "\n",
    "# 2. Loop for com range\n",
    "for i in range(5):\n",
    "    print(f\"Repetição número {i}\")\n",
    "\n",
    "print(\"-\" * 30)\n",
    "\n",
    "# 3. Loop while\n",
    "contador = 0\n",
    "while contador < 3:\n",
    "    print(\"Contando:\", contador)\n",
    "    contador += 1\n",
    "\n",
    "print(\"-\" * 30)\n",
    "\n",
    "# 4. Uso do break (interrompe o loop)\n",
    "for i in range(10):\n",
    "    if i == 5:\n",
    "        break\n",
    "    print(\"Loop com break, i =\", i)\n",
    "\n",
    "print(\"-\" * 30)\n",
    "\n",
    "# 5. Uso do continue (pula a iteração atual)\n",
    "for i in range(5):\n",
    "    if i == 2:\n",
    "        continue\n",
    "    print(\"Loop com continue, i =\", i)\n",
    "\n",
    "print(\"-\" * 30)\n",
    "\n",
    "# 6. Uso do pass (não faz nada, usado como placeholder)\n",
    "for i in range(3):\n",
    "    pass  # ainda não implementado\n",
    "\n",
    "print(\"Fim do script de controle de fluxo!\")\n"
   ]
  },
  {
   "cell_type": "markdown",
   "metadata": {},
   "source": [
    "- Trabalhar com Listas, Dicionários, Tuplas e Sets"
   ]
  },
  {
   "cell_type": "code",
   "execution_count": 5,
   "metadata": {},
   "outputs": [
    {
     "name": "stdout",
     "output_type": "stream",
     "text": [
      "Lista de frutas: ['maçã', 'banana', 'laranja']\n",
      "Após append: ['maçã', 'banana', 'laranja', 'uva']\n",
      "Primeira fruta: maçã\n",
      "Após alteração: ['maçã', 'abacaxi', 'laranja', 'uva']\n",
      "------------------------------\n",
      "Tupla coordenadas: (10.0, 20.0)\n",
      "X: 10.0\n",
      "Y: 20.0\n",
      "------------------------------\n",
      "Nome: Ana\n",
      "Dicionário atualizado: {'nome': 'Ana', 'idade': 31, 'cidade': 'São Paulo', 'email': 'ana@email.com'}\n",
      "------------------------------\n",
      "Set com números (sem repetições): {1, 2, 3, 4, 5}\n",
      "Após add: {1, 2, 3, 4, 5, 6}\n",
      "Existe 2 no set? True\n",
      "------------------------------\n",
      "Fim do exemplo de coleções básicas!\n"
     ]
    }
   ],
   "source": [
    "# 1. LISTAS (mutáveis, ordenadas)\n",
    "frutas = [\"maçã\", \"banana\", \"laranja\"]\n",
    "print(\"Lista de frutas:\", frutas)\n",
    "\n",
    "frutas.append(\"uva\")  # adiciona no final\n",
    "print(\"Após append:\", frutas)\n",
    "\n",
    "print(\"Primeira fruta:\", frutas[0])  # acesso por índice\n",
    "frutas[1] = \"abacaxi\"  # alteração\n",
    "print(\"Após alteração:\", frutas)\n",
    "\n",
    "print(\"-\" * 30)\n",
    "\n",
    "# 2. TUPLAS (imutáveis, ordenadas)\n",
    "coordenadas = (10.0, 20.0)\n",
    "print(\"Tupla coordenadas:\", coordenadas)\n",
    "print(\"X:\", coordenadas[0])\n",
    "print(\"Y:\", coordenadas[1])\n",
    "\n",
    "# coordenadas[0] = 99  # ❌ Isso daria erro: tuplas não podem ser alteradas\n",
    "\n",
    "print(\"-\" * 30)\n",
    "\n",
    "# 3. DICIONÁRIOS (chave: valor)\n",
    "pessoa = {\n",
    "    \"nome\": \"Ana\",\n",
    "    \"idade\": 30,\n",
    "    \"cidade\": \"São Paulo\"\n",
    "}\n",
    "print(\"Nome:\", pessoa[\"nome\"])\n",
    "pessoa[\"idade\"] = 31  # atualiza\n",
    "pessoa[\"email\"] = \"ana@email.com\"  # adiciona nova chave\n",
    "print(\"Dicionário atualizado:\", pessoa)\n",
    "\n",
    "print(\"-\" * 30)\n",
    "\n",
    "# 4. SETS (conjuntos: elementos únicos, sem ordem)\n",
    "numeros = {1, 2, 3, 3, 4, 5}\n",
    "print(\"Set com números (sem repetições):\", numeros)\n",
    "\n",
    "numeros.add(6)\n",
    "numeros.add(3)  # 3 já existe, não será duplicado\n",
    "print(\"Após add:\", numeros)\n",
    "\n",
    "print(\"Existe 2 no set?\", 2 in numeros)\n",
    "\n",
    "print(\"-\" * 30)\n",
    "\n",
    "print(\"Fim do exemplo de coleções básicas!\")\n"
   ]
  },
  {
   "cell_type": "markdown",
   "metadata": {},
   "source": [
    "- Manipulação de string"
   ]
  },
  {
   "cell_type": "code",
   "execution_count": 6,
   "metadata": {},
   "outputs": [
    {
     "name": "stdout",
     "output_type": "stream",
     "text": [
      "strip(): Olá, Mundo Python!\n",
      "upper(): OLÁ, MUNDO PYTHON!\n",
      "lower(): olá, mundo python!\n",
      "replace(): Olá, Mundo Programador!\n",
      "split(): ['Olá,', 'Mundo', 'Python!']\n",
      "join(): Olá,-Mundo-Python!\n",
      "Fatiamento [0:5]: Olá, \n",
      "Últimos 6 caracteres: ython!\n",
      "De 5 até o fim: Mundo Python!\n",
      "len(): 18\n",
      "'Mundo' in texto: True\n",
      "Começa com 'Olá'?  True\n",
      "Termina com 'Python!'?  True\n"
     ]
    }
   ],
   "source": [
    "# manipulacao_strings.py\n",
    "\n",
    "texto = \"  Olá, Mundo Python!  \"\n",
    "\n",
    "# 1. strip() — remove espaços em branco do início e fim\n",
    "limpo = texto.strip()\n",
    "print(\"strip():\", limpo)\n",
    "\n",
    "# 2. upper() — tudo maiúsculo\n",
    "print(\"upper():\", limpo.upper())\n",
    "\n",
    "# 3. lower() — tudo minúsculo\n",
    "print(\"lower():\", limpo.lower())\n",
    "\n",
    "# 4. replace() — substitui parte da string\n",
    "print(\"replace():\", limpo.replace(\"Python\", \"Programador\"))\n",
    "\n",
    "# 5. split() — separa a string por espaços (ou outro separador)\n",
    "palavras = limpo.split()\n",
    "print(\"split():\", palavras)  # resultado é uma lista de palavras\n",
    "\n",
    "# 6. join() — junta lista em uma única string\n",
    "junta = \"-\".join(palavras)\n",
    "print(\"join():\", junta)\n",
    "\n",
    "# 7. fatiamento — acessa partes da string usando índices\n",
    "print(\"Fatiamento [0:5]:\", limpo[0:5])    # do caractere 0 ao 4\n",
    "print(\"Últimos 6 caracteres:\", limpo[-6:])  # pega do final\n",
    "print(\"De 5 até o fim:\", limpo[5:])\n",
    "\n",
    "# 8. len() — comprimento da string\n",
    "print(\"len():\", len(limpo))\n",
    "\n",
    "# 9. in — verifica se uma substring existe\n",
    "print(\"'Mundo' in texto:\", \"Mundo\" in limpo)\n",
    "\n",
    "# 10. startswith() / endswith()\n",
    "print(\"Começa com 'Olá'? \", limpo.startswith(\"Olá\"))\n",
    "print(\"Termina com 'Python!'? \", limpo.endswith(\"Python!\"))\n"
   ]
  },
  {
   "cell_type": "markdown",
   "metadata": {},
   "source": [
    "- Manipulando arquivos"
   ]
  },
  {
   "cell_type": "code",
   "execution_count": 7,
   "metadata": {},
   "outputs": [
    {
     "name": "stdout",
     "output_type": "stream",
     "text": [
      "Conteúdo completo:\n",
      " Primeira linha.\n",
      "Segunda linha.\n",
      "Terceira linha.\n",
      "\n",
      "Lendo linha por linha:\n",
      "- Primeira linha.\n",
      "- Segunda linha.\n",
      "- Terceira linha.\n",
      "\n",
      "Arquivo após adicionar nova linha:\n",
      "Primeira linha.\n",
      "Segunda linha.\n",
      "Terceira linha.\n",
      "Quarta linha adicionada.\n",
      "\n"
     ]
    }
   ],
   "source": [
    "# arquivos.py\n",
    "\n",
    "# 1. Escrevendo em um arquivo (modo 'w' sobrescreve o conteúdo)\n",
    "with open(\"exemplo.txt\", \"w\") as arquivo:\n",
    "    arquivo.write(\"Primeira linha.\\n\")\n",
    "    arquivo.write(\"Segunda linha.\\n\")\n",
    "    arquivo.write(\"Terceira linha.\\n\")\n",
    "\n",
    "# 2. Lendo todo o conteúdo (modo 'r')\n",
    "with open(\"exemplo.txt\", \"r\") as arquivo:\n",
    "    conteudo = arquivo.read()\n",
    "    print(\"Conteúdo completo:\\n\", conteudo)\n",
    "\n",
    "# 3. Lendo linha por linha\n",
    "with open(\"exemplo.txt\", \"r\") as arquivo:\n",
    "    print(\"Lendo linha por linha:\")\n",
    "    for linha in arquivo:\n",
    "        print(\"-\", linha.strip())  # strip para remover o \\n do final\n",
    "\n",
    "# 4. Acrescentando conteúdo (modo 'a' de append)\n",
    "with open(\"exemplo.txt\", \"a\") as arquivo:\n",
    "    arquivo.write(\"Quarta linha adicionada.\\n\")\n",
    "\n",
    "# 5. Lendo novamente para verificar a adição\n",
    "with open(\"exemplo.txt\", \"r\") as arquivo:\n",
    "    print(\"\\nArquivo após adicionar nova linha:\")\n",
    "    print(arquivo.read())\n",
    "\n",
    "# 6. Limpando o conteúdo do arquivo (modo 'w' sem escrever nada)\n",
    "with open(\"exemplo.txt\", \"w\") as arquivo:\n",
    "    pass  # Isso limpa o arquivo\n"
   ]
  },
  {
   "cell_type": "markdown",
   "metadata": {},
   "source": [
    "- Try Catch"
   ]
  },
  {
   "cell_type": "code",
   "execution_count": 8,
   "metadata": {},
   "outputs": [
    {
     "name": "stdout",
     "output_type": "stream",
     "text": [
      "Resultado da divisão: 5.0\n",
      "Operação finalizada.\n",
      "\n",
      "Erro: divisão por zero não é permitida.\n",
      "Operação finalizada.\n",
      "\n",
      "Erro: tipos inválidos. Certifique-se de usar números.\n",
      "Operação finalizada.\n",
      "\n"
     ]
    }
   ],
   "source": [
    "def divisao(a, b):\n",
    "    try:\n",
    "        resultado = a / b\n",
    "    except ZeroDivisionError:\n",
    "        print(\"Erro: divisão por zero não é permitida.\")\n",
    "    except TypeError:\n",
    "        print(\"Erro: tipos inválidos. Certifique-se de usar números.\")\n",
    "    else:\n",
    "        print(f\"Resultado da divisão: {resultado}\")\n",
    "    finally:\n",
    "        print(\"Operação finalizada.\\n\")\n",
    "\n",
    "# Exemplos de uso\n",
    "divisao(10, 2)         # Deve imprimir o resultado normalmente\n",
    "divisao(10, 0)         # Deve capturar divisão por zero\n",
    "divisao(10, \"abc\")     # Deve capturar erro de tipo\n"
   ]
  },
  {
   "cell_type": "markdown",
   "metadata": {},
   "source": [
    "- Importações"
   ]
  },
  {
   "cell_type": "code",
   "execution_count": 9,
   "metadata": {},
   "outputs": [
    {
     "name": "stdout",
     "output_type": "stream",
     "text": [
      "Resultado de math.sqrt(16): 4.0\n",
      "Resultado de sqrt(16): 4.0\n",
      "Resultado de m.sqrt(16): 4.0\n",
      "Olá, Maria!\n",
      "Olá, João!\n",
      "8\n",
      "Resultado de importlib.math.sqrt(25): 5.0\n"
     ]
    }
   ],
   "source": [
    "# Importando bibliotecas padrão\n",
    "import math\n",
    "from math import sqrt\n",
    "\n",
    "# Usando a biblioteca math\n",
    "print(\"Resultado de math.sqrt(16):\", math.sqrt(16))\n",
    "print(\"Resultado de sqrt(16):\", sqrt(16))\n",
    "\n",
    "# Renomeando a biblioteca math para 'm'\n",
    "import math as m\n",
    "print(\"Resultado de m.sqrt(16):\", m.sqrt(16))\n",
    "\n",
    "# Criando e importando meu próprio módulo\n",
    "import meu_modulo  # Importa o módulo inteiro\n",
    "from meu_modulo import saudacao, soma  # Importa funções específicas\n",
    "\n",
    "# Usando funções do módulo criado\n",
    "print(meu_modulo.saudacao(\"Maria\"))  # Usando a função do módulo\n",
    "print(saudacao(\"João\"))  # Usando a função diretamente\n",
    "print(soma(5, 3))  # Usando a função soma diretamente\n",
    "\n",
    "# Usando importlib para carregar o módulo dinamicamente\n",
    "import importlib\n",
    "modulo_math = importlib.import_module(\"math\")\n",
    "print(\"Resultado de importlib.math.sqrt(25):\", modulo_math.sqrt(25))\n"
   ]
  },
  {
   "cell_type": "markdown",
   "metadata": {},
   "source": [
    "- POO e Práticas de importação"
   ]
  },
  {
   "cell_type": "code",
   "execution_count": 26,
   "metadata": {},
   "outputs": [
    {
     "name": "stdout",
     "output_type": "stream",
     "text": [
      "Olá, meu nome é Andy\n",
      "Saldo: 1000\n",
      "Saldo: 2444\n",
      "O cachorro late.\n",
      "A\n",
      "B\n",
      "Livro: Agnes the book\n",
      "25\n",
      "300.0\n",
      "270.0\n",
      "Área do quadrado: 25\n",
      "100\n",
      "120\n"
     ]
    }
   ],
   "source": [
    "from base_class import Pessoa, Conta, Cachorro, C, Livro, Utils, Produto, Quadrado, ProdutoSeguro\n",
    "\n",
    "# 1. Pessoa\n",
    "pessoaA = Pessoa(\"Andy\", 25)\n",
    "pessoaA.dizer_ola()  # Saída: Olá, meu nome é Andy e eu tenho 25 anos.\n",
    "\n",
    "# 2. Conta\n",
    "conta = Conta(1000)\n",
    "conta.mostrar_saldo()  # Saída: Saldo: 1000\n",
    "# Acessando e alterando atributo protegido\n",
    "conta._saldo = 2444\n",
    "conta.mostrar_saldo()  # Saída: Saldo: 2444\n",
    "\n",
    "# 3. Cachorro\n",
    "cachorra_animal = Cachorro()\n",
    "cachorra_animal.falar()  # Saída: O cachorro late.\n",
    "\n",
    "# 4. Herança Múltipla\n",
    "c = C()  # Classe C herda A e B\n",
    "c.metodo_a()  # Saída: Método A de classe A.\n",
    "c.metodo_b()  # Saída: Método B de classe B.\n",
    "\n",
    "# 5. Método Especial\n",
    "livro = Livro(\"Agnes the book\")\n",
    "print(livro)  # Saída: Livro: Agnes the book\n",
    "\n",
    "# 6. Método Estático\n",
    "print(Utils.somar(22, 3))  # Saída: 25\n",
    "\n",
    "# 7. Método de Classe\n",
    "produto = Produto(250)\n",
    "produto_com_desconto = Produto.com_desconto(250, 0.1)\n",
    "print(produto.preco)  # Saída: 300.0\n",
    "print(produto_com_desconto.preco)  # Saída: 225.0\n",
    "\n",
    "# 8. Abstração e Polimorfismo\n",
    "quadrado = Quadrado(5)\n",
    "print(f\"Área do quadrado: {quadrado.area()}\")  # Saída: Área do quadrado: 25\n",
    "\n",
    "# 9. Encapsulamento\n",
    "produto_seguro = ProdutoSeguro(100)\n",
    "print(produto_seguro.get_preco())  # Saída: 100\n",
    "produto_seguro.set_preco(120)  # Mudando o preço para 120\n",
    "print(produto_seguro.get_preco())  # Saída: 120"
   ]
  }
 ],
 "metadata": {
  "kernelspec": {
   "display_name": "venv",
   "language": "python",
   "name": "python3"
  },
  "language_info": {
   "codemirror_mode": {
    "name": "ipython",
    "version": 3
   },
   "file_extension": ".py",
   "mimetype": "text/x-python",
   "name": "python",
   "nbconvert_exporter": "python",
   "pygments_lexer": "ipython3",
   "version": "3.12.3"
  }
 },
 "nbformat": 4,
 "nbformat_minor": 2
}
