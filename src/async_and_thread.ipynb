{
 "cells": [
  {
   "cell_type": "markdown",
   "metadata": {},
   "source": [
    "#### Concorrência e Assíncrono em Python (do básico ao avançado)\n",
    "1. Conceito Básico\n",
    "Concorrência = executar várias tarefas quase ao mesmo tempo (intercaladas).\n",
    "Assíncrono = escrever código que espera por operações lentas sem travar o resto do programa (como leitura de arquivos, rede, etc).\n",
    "\n",
    "2. Threading Básico\n",
    "Executando funções em paralelo usando threads (útil quando o trabalho é de I/O: rede, arquivos...):"
   ]
  },
  {
   "cell_type": "code",
   "execution_count": 1,
   "metadata": {},
   "outputs": [
    {
     "name": "stdout",
     "output_type": "stream",
     "text": [
      "Iniciando tarefa...\n",
      "Iniciando tarefa...\n",
      "Tarefa finalizada.\n",
      "Tarefa finalizada.\n",
      "Tudo pronto!\n"
     ]
    }
   ],
   "source": [
    "import threading\n",
    "import time\n",
    "\n",
    "def tarefa():\n",
    "    print(\"Iniciando tarefa...\")\n",
    "    time.sleep(2)\n",
    "    print(\"Tarefa finalizada.\")\n",
    "\n",
    "# Criando 2 threads\n",
    "t1 = threading.Thread(target=tarefa)\n",
    "t2 = threading.Thread(target=tarefa)\n",
    "\n",
    "t1.start()\n",
    "t2.start()\n",
    "\n",
    "t1.join() # Terminar o progama antes do progama main terminar\n",
    "t2.join() # Terminar o progama antes do progama main terminar\n",
    "print(\"Tudo pronto!\")\n"
   ]
  },
  {
   "cell_type": "markdown",
   "metadata": {},
   "source": [
    "🔹 3. Assíncrono com async e await\n",
    "Python tem suporte nativo a assíncrono com asyncio."
   ]
  },
  {
   "cell_type": "code",
   "execution_count": 7,
   "metadata": {},
   "outputs": [
    {
     "name": "stdout",
     "output_type": "stream",
     "text": [
      "Executando\n",
      "Executando\n"
     ]
    }
   ],
   "source": [
    "####### FOR PYTHON\n",
    "# import asyncio\n",
    "\n",
    "# async def asx():\n",
    "#     print(\"Começando...\")\n",
    "#     await asyncio.sleep(2)\n",
    "#     print(\"Terminou.\")\n",
    "\n",
    "# async def main():\n",
    "#     await asyncio.gather(asx(), asx())\n",
    "\n",
    "# asyncio.run(main())\n",
    "\n",
    "######### FOR JUPITER\n",
    "import asyncio\n",
    "\n",
    "async def asx():\n",
    "    print(\"Executando\")\n",
    "    await asyncio.sleep(1)\n",
    "\n",
    "async def main():\n",
    "    await asyncio.gather(asx(), asx())\n",
    "\n",
    "# Em Jupyter:\n",
    "await main()  # ← assim, sem asyncio.run()"
   ]
  },
  {
   "cell_type": "markdown",
   "metadata": {},
   "source": [
    "Exemplo 4: Executando várias tarefas ao mesmo tempo"
   ]
  },
  {
   "cell_type": "code",
   "execution_count": 8,
   "metadata": {},
   "outputs": [
    {
     "name": "stdout",
     "output_type": "stream",
     "text": [
      "Iniciando Tarefa A\n",
      "Iniciando Tarefa B\n",
      "Iniciando Tarefa C\n",
      "Tarefa B terminou\n",
      "Tarefa A terminou\n",
      "Tarefa C terminou\n"
     ]
    },
    {
     "data": {
      "text/plain": [
       "[None, None, None]"
      ]
     },
     "execution_count": 8,
     "metadata": {},
     "output_type": "execute_result"
    }
   ],
   "source": [
    "async def tarefa(nome, tempo):\n",
    "    print(f\"Iniciando {nome}\")\n",
    "    await asyncio.sleep(tempo)\n",
    "    print(f\"{nome} terminou\")\n",
    "\n",
    "# Executar múltiplas tarefas \"ao mesmo tempo\"\n",
    "await asyncio.gather(\n",
    "    tarefa(\"Tarefa A\", 2),\n",
    "    tarefa(\"Tarefa B\", 1),\n",
    "    tarefa(\"Tarefa C\", 3)\n",
    ")\n"
   ]
  }
 ],
 "metadata": {
  "kernelspec": {
   "display_name": "venv",
   "language": "python",
   "name": "python3"
  },
  "language_info": {
   "codemirror_mode": {
    "name": "ipython",
    "version": 3
   },
   "file_extension": ".py",
   "mimetype": "text/x-python",
   "name": "python",
   "nbconvert_exporter": "python",
   "pygments_lexer": "ipython3",
   "version": "3.12.3"
  }
 },
 "nbformat": 4,
 "nbformat_minor": 2
}
